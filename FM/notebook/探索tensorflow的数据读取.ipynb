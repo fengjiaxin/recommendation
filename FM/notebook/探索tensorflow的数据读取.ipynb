{
 "cells": [
  {
   "cell_type": "code",
   "execution_count": 22,
   "metadata": {},
   "outputs": [],
   "source": [
    "import pandas as pd\n",
    "import numpy as np\n",
    "import tensorflow as tf\n",
    "from sklearn.preprocessing import LabelEncoder\n",
    "\n",
    "# one hot encoder ，将label转换成one hot形式\n",
    "def onehot_encoder(labels,num_classes):\n",
    "    # labels 是Series的数据格式\n",
    "    enc = LabelEncoder()\n",
    "    labels = enc.fit_transform(labels)\n",
    "    labels = labels.astype(np.int32)\n",
    "    batch_size = tf.size(labels)\n",
    "    labels = tf.expand_dims(labels,1)\n",
    "    indices = tf.expand_dims(tf.range(0,batch_size,1),1)\n",
    "    concated = tf.concat(axis=1,values=[indices,labels])\n",
    "    onehot_labels = tf.sparse_to_dense(concated,tf.stack([batch_size,num_classes]),1.0,0.0)\n",
    "    with tf.Session() as sess:\n",
    "        return sess.run(onehot_labels)\n",
    "\n",
    "# item数据\n",
    "def load_item(item_path):\n",
    "    item_columns = ['item_id', 'title', 'release_date', 'video_release_date', 'IMDb_URL', 'unknown', 'Action', 'Adventure', 'Animation', 'Children',\n",
    "            'Comedy', 'Crime', 'Documentary', 'Drama', 'Fantasy', 'Film-Noir', 'Horror', 'Musical', 'Mystery', 'Romance', 'Sci-Fi',\n",
    "            'Thriller', 'War', 'Western']\n",
    "    df_item = pd.read_csv(item_path, sep='|', names=item_columns,encoding=\"latin-1\")\n",
    "    df_item = df_item.drop(columns=['title', 'release_date', 'video_release_date', 'IMDb_URL', 'unknown'])\n",
    "    return df_item\n",
    "\n",
    "\n",
    "# user数据\n",
    "def load_user(user_path):\n",
    "    user_columns = ['user_id', 'age', 'gender', 'occupation', 'zip_code']\n",
    "    df_user = pd.read_csv(user_path, sep='|', names=user_columns)\n",
    "\n",
    "    # 给age分段\n",
    "    df_user['age'] = pd.cut(df_user['age'], [0, 10, 20, 30, 40, 50, 60, 70, 80, 90, 100],\n",
    "                            labels=['0-10', '10-20', '20-30', '30-40', '40-50', '50-60', '60-70', '70-80', '80-90',\n",
    "                                    '90-100'])\n",
    "    # one hot 向量\n",
    "    df_user = pd.get_dummies(df_user, columns=['gender', 'occupation', 'age'])\n",
    "    df_user = df_user.drop(columns=['zip_code'])\n",
    "    return df_user\n",
    "\n",
    "# train数据\n",
    "def load_train(train_path,item_path,user_path):\n",
    "    df_item = load_item(item_path)\n",
    "    df_user = load_user(user_path)\n",
    "    train_columns = ['user_id', 'item_id', 'rating', 'timestamp']\n",
    "    df_train = pd.read_csv(train_path, sep='\\t', names=train_columns)\n",
    "\n",
    "    # 将评分等于5的数据作为用户的点击数据，评分小于5分的数据作为用户的未点击数据，构造成一个而分类问题\n",
    "    df_train['rating'] = df_train.rating.apply(lambda x: 1 if int(x) == 5 else 0)\n",
    "    df_train = df_train.merge(df_user, on='user_id', how='left')\n",
    "    df_train = df_train.merge(df_item, on='item_id', how='left')\n",
    "    train_labels = onehot_encoder(df_train['rating'].astype(np.int32), 2)\n",
    "    return df_train,train_labels\n",
    "\n",
    "# test数据\n",
    "def load_test(test_path,item_path,user_path):\n",
    "    df_item = load_item(item_path)\n",
    "    df_user = load_user(user_path)\n",
    "    test_columns = ['user_id', 'item_id', 'rating', 'timestamp']\n",
    "    df_test = pd.read_csv(test_path, sep='\\t', names=test_columns)\n",
    "\n",
    "    # 将评分等于5的数据作为用户的点击数据，评分小于5分的数据作为用户的未点击数据，构造成一个而分类问题\n",
    "    df_test['rating'] = df_test.rating.apply(lambda x: 1 if int(x) == 5 else 0)\n",
    "    df_test = df_test.merge(df_user, on='user_id', how='left')\n",
    "    df_test = df_test.merge(df_item, on='item_id', how='left')\n",
    "    test_labels = onehot_encoder(df_test['rating'].astype(np.int32), 2)\n",
    "    return df_test, test_labels\n",
    "\n",
    "def load_dataset(item_path,user_path,train_path,test_path):\n",
    "    df_train,train_labels = load_train(train_path,item_path,user_path)\n",
    "    df_test,test_labels = load_test(test_path,item_path,user_path)\n",
    "    return df_train,train_labels,df_test,test_labels\n"
   ]
  },
  {
   "cell_type": "code",
   "execution_count": 23,
   "metadata": {},
   "outputs": [
    {
     "name": "stdout",
     "output_type": "stream",
     "text": [
      "WARNING:tensorflow:From <ipython-input-22-080cbc5d5a00>:16: sparse_to_dense (from tensorflow.python.ops.sparse_ops) is deprecated and will be removed in a future version.\n",
      "Instructions for updating:\n",
      "Create a `tf.sparse.SparseTensor` and use `tf.sparse.to_dense` instead.\n"
     ]
    }
   ],
   "source": [
    "df_train,train_labels = load_train('../data/ua.base','../data/u.item','../data/u.user')"
   ]
  },
  {
   "cell_type": "code",
   "execution_count": 24,
   "metadata": {},
   "outputs": [
    {
     "data": {
      "text/html": [
       "<div>\n",
       "<style scoped>\n",
       "    .dataframe tbody tr th:only-of-type {\n",
       "        vertical-align: middle;\n",
       "    }\n",
       "\n",
       "    .dataframe tbody tr th {\n",
       "        vertical-align: top;\n",
       "    }\n",
       "\n",
       "    .dataframe thead th {\n",
       "        text-align: right;\n",
       "    }\n",
       "</style>\n",
       "<table border=\"1\" class=\"dataframe\">\n",
       "  <thead>\n",
       "    <tr style=\"text-align: right;\">\n",
       "      <th></th>\n",
       "      <th>user_id</th>\n",
       "      <th>item_id</th>\n",
       "      <th>rating</th>\n",
       "      <th>timestamp</th>\n",
       "      <th>gender_F</th>\n",
       "      <th>gender_M</th>\n",
       "      <th>occupation_administrator</th>\n",
       "      <th>occupation_artist</th>\n",
       "      <th>occupation_doctor</th>\n",
       "      <th>occupation_educator</th>\n",
       "      <th>...</th>\n",
       "      <th>Fantasy</th>\n",
       "      <th>Film-Noir</th>\n",
       "      <th>Horror</th>\n",
       "      <th>Musical</th>\n",
       "      <th>Mystery</th>\n",
       "      <th>Romance</th>\n",
       "      <th>Sci-Fi</th>\n",
       "      <th>Thriller</th>\n",
       "      <th>War</th>\n",
       "      <th>Western</th>\n",
       "    </tr>\n",
       "  </thead>\n",
       "  <tbody>\n",
       "    <tr>\n",
       "      <th>0</th>\n",
       "      <td>1</td>\n",
       "      <td>1</td>\n",
       "      <td>1</td>\n",
       "      <td>874965758</td>\n",
       "      <td>0</td>\n",
       "      <td>1</td>\n",
       "      <td>0</td>\n",
       "      <td>0</td>\n",
       "      <td>0</td>\n",
       "      <td>0</td>\n",
       "      <td>...</td>\n",
       "      <td>0</td>\n",
       "      <td>0</td>\n",
       "      <td>0</td>\n",
       "      <td>0</td>\n",
       "      <td>0</td>\n",
       "      <td>0</td>\n",
       "      <td>0</td>\n",
       "      <td>0</td>\n",
       "      <td>0</td>\n",
       "      <td>0</td>\n",
       "    </tr>\n",
       "    <tr>\n",
       "      <th>1</th>\n",
       "      <td>1</td>\n",
       "      <td>2</td>\n",
       "      <td>0</td>\n",
       "      <td>876893171</td>\n",
       "      <td>0</td>\n",
       "      <td>1</td>\n",
       "      <td>0</td>\n",
       "      <td>0</td>\n",
       "      <td>0</td>\n",
       "      <td>0</td>\n",
       "      <td>...</td>\n",
       "      <td>0</td>\n",
       "      <td>0</td>\n",
       "      <td>0</td>\n",
       "      <td>0</td>\n",
       "      <td>0</td>\n",
       "      <td>0</td>\n",
       "      <td>0</td>\n",
       "      <td>1</td>\n",
       "      <td>0</td>\n",
       "      <td>0</td>\n",
       "    </tr>\n",
       "    <tr>\n",
       "      <th>2</th>\n",
       "      <td>1</td>\n",
       "      <td>3</td>\n",
       "      <td>0</td>\n",
       "      <td>878542960</td>\n",
       "      <td>0</td>\n",
       "      <td>1</td>\n",
       "      <td>0</td>\n",
       "      <td>0</td>\n",
       "      <td>0</td>\n",
       "      <td>0</td>\n",
       "      <td>...</td>\n",
       "      <td>0</td>\n",
       "      <td>0</td>\n",
       "      <td>0</td>\n",
       "      <td>0</td>\n",
       "      <td>0</td>\n",
       "      <td>0</td>\n",
       "      <td>0</td>\n",
       "      <td>1</td>\n",
       "      <td>0</td>\n",
       "      <td>0</td>\n",
       "    </tr>\n",
       "    <tr>\n",
       "      <th>3</th>\n",
       "      <td>1</td>\n",
       "      <td>4</td>\n",
       "      <td>0</td>\n",
       "      <td>876893119</td>\n",
       "      <td>0</td>\n",
       "      <td>1</td>\n",
       "      <td>0</td>\n",
       "      <td>0</td>\n",
       "      <td>0</td>\n",
       "      <td>0</td>\n",
       "      <td>...</td>\n",
       "      <td>0</td>\n",
       "      <td>0</td>\n",
       "      <td>0</td>\n",
       "      <td>0</td>\n",
       "      <td>0</td>\n",
       "      <td>0</td>\n",
       "      <td>0</td>\n",
       "      <td>0</td>\n",
       "      <td>0</td>\n",
       "      <td>0</td>\n",
       "    </tr>\n",
       "    <tr>\n",
       "      <th>4</th>\n",
       "      <td>1</td>\n",
       "      <td>5</td>\n",
       "      <td>0</td>\n",
       "      <td>889751712</td>\n",
       "      <td>0</td>\n",
       "      <td>1</td>\n",
       "      <td>0</td>\n",
       "      <td>0</td>\n",
       "      <td>0</td>\n",
       "      <td>0</td>\n",
       "      <td>...</td>\n",
       "      <td>0</td>\n",
       "      <td>0</td>\n",
       "      <td>0</td>\n",
       "      <td>0</td>\n",
       "      <td>0</td>\n",
       "      <td>0</td>\n",
       "      <td>0</td>\n",
       "      <td>1</td>\n",
       "      <td>0</td>\n",
       "      <td>0</td>\n",
       "    </tr>\n",
       "  </tbody>\n",
       "</table>\n",
       "<p>5 rows × 55 columns</p>\n",
       "</div>"
      ],
      "text/plain": [
       "   user_id  item_id  rating  timestamp  gender_F  gender_M  \\\n",
       "0        1        1       1  874965758         0         1   \n",
       "1        1        2       0  876893171         0         1   \n",
       "2        1        3       0  878542960         0         1   \n",
       "3        1        4       0  876893119         0         1   \n",
       "4        1        5       0  889751712         0         1   \n",
       "\n",
       "   occupation_administrator  occupation_artist  occupation_doctor  \\\n",
       "0                         0                  0                  0   \n",
       "1                         0                  0                  0   \n",
       "2                         0                  0                  0   \n",
       "3                         0                  0                  0   \n",
       "4                         0                  0                  0   \n",
       "\n",
       "   occupation_educator   ...     Fantasy  Film-Noir  Horror  Musical  Mystery  \\\n",
       "0                    0   ...           0          0       0        0        0   \n",
       "1                    0   ...           0          0       0        0        0   \n",
       "2                    0   ...           0          0       0        0        0   \n",
       "3                    0   ...           0          0       0        0        0   \n",
       "4                    0   ...           0          0       0        0        0   \n",
       "\n",
       "   Romance  Sci-Fi  Thriller  War  Western  \n",
       "0        0       0         0    0        0  \n",
       "1        0       0         1    0        0  \n",
       "2        0       0         1    0        0  \n",
       "3        0       0         0    0        0  \n",
       "4        0       0         1    0        0  \n",
       "\n",
       "[5 rows x 55 columns]"
      ]
     },
     "execution_count": 24,
     "metadata": {},
     "output_type": "execute_result"
    }
   ],
   "source": [
    "df_train.head()"
   ]
  },
  {
   "cell_type": "code",
   "execution_count": 26,
   "metadata": {},
   "outputs": [
    {
     "data": {
      "text/plain": [
       "numpy.ndarray"
      ]
     },
     "execution_count": 26,
     "metadata": {},
     "output_type": "execute_result"
    }
   ],
   "source": [
    "type(train_labels)"
   ]
  },
  {
   "cell_type": "code",
   "execution_count": 27,
   "metadata": {},
   "outputs": [],
   "source": [
    "data = [df_train,train_labels]"
   ]
  },
  {
   "cell_type": "code",
   "execution_count": 37,
   "metadata": {},
   "outputs": [],
   "source": [
    "def shuffle_list(data):\n",
    "    num = data.shape[0]\n",
    "    p = np.random.permutation(num)\n",
    "    return [d[p] for d in data]"
   ]
  },
  {
   "cell_type": "code",
   "execution_count": 39,
   "metadata": {},
   "outputs": [],
   "source": [
    "df=df_train.values"
   ]
  },
  {
   "cell_type": "code",
   "execution_count": 41,
   "metadata": {},
   "outputs": [
    {
     "data": {
      "text/plain": [
       "90570"
      ]
     },
     "execution_count": 41,
     "metadata": {},
     "output_type": "execute_result"
    }
   ],
   "source": [
    "df.shape[0]"
   ]
  },
  {
   "cell_type": "code",
   "execution_count": 42,
   "metadata": {},
   "outputs": [],
   "source": [
    "p = np.random.permutation(df.shape[0])"
   ]
  },
  {
   "cell_type": "code",
   "execution_count": 43,
   "metadata": {},
   "outputs": [
    {
     "data": {
      "text/plain": [
       "array([51462, 45418, 10989, ..., 42409, 73080, 41995])"
      ]
     },
     "execution_count": 43,
     "metadata": {},
     "output_type": "execute_result"
    }
   ],
   "source": [
    "p"
   ]
  },
  {
   "cell_type": "code",
   "execution_count": 44,
   "metadata": {},
   "outputs": [
    {
     "data": {
      "text/plain": [
       "array([[ 498, 1495,    0, ...,    0,    0,    0],\n",
       "       [ 445,  879,    0, ...,    1,    1,    0],\n",
       "       [ 115,   48,    1, ...,    0,    0,    0],\n",
       "       ...,\n",
       "       [ 416,  257,    0, ...,    0,    0,    0],\n",
       "       [ 749,   86,    0, ...,    0,    0,    0],\n",
       "       [ 409,  496,    1, ...,    0,    0,    0]])"
      ]
     },
     "execution_count": 44,
     "metadata": {},
     "output_type": "execute_result"
    }
   ],
   "source": [
    "df[p]"
   ]
  },
  {
   "cell_type": "code",
   "execution_count": 45,
   "metadata": {},
   "outputs": [
    {
     "data": {
      "text/plain": [
       "array([[   1,    1,    1, ...,    0,    0,    0],\n",
       "       [   1,    2,    0, ...,    1,    0,    0],\n",
       "       [   1,    3,    0, ...,    1,    0,    0],\n",
       "       ...,\n",
       "       [ 943, 1188,    0, ...,    0,    0,    1],\n",
       "       [ 943, 1228,    0, ...,    0,    0,    0],\n",
       "       [ 943, 1330,    0, ...,    0,    0,    0]])"
      ]
     },
     "execution_count": 45,
     "metadata": {},
     "output_type": "execute_result"
    }
   ],
   "source": [
    "df"
   ]
  }
 ],
 "metadata": {
  "kernelspec": {
   "display_name": "Python 3",
   "language": "python",
   "name": "python3"
  },
  "language_info": {
   "codemirror_mode": {
    "name": "ipython",
    "version": 3
   },
   "file_extension": ".py",
   "mimetype": "text/x-python",
   "name": "python",
   "nbconvert_exporter": "python",
   "pygments_lexer": "ipython3",
   "version": "3.6.7"
  }
 },
 "nbformat": 4,
 "nbformat_minor": 2
}

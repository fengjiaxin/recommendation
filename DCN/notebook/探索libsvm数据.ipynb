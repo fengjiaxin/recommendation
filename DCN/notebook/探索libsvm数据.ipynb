{
 "cells": [
  {
   "cell_type": "code",
   "execution_count": 48,
   "metadata": {},
   "outputs": [],
   "source": [
    "import tensorflow as tf"
   ]
  },
  {
   "cell_type": "code",
   "execution_count": 66,
   "metadata": {},
   "outputs": [],
   "source": [
    "def input_fn(filenames, batch_size=2, num_epochs=1, perform_shuffle=False):\n",
    "    print('Parsing', filenames)\n",
    "    def decode_libsvm(line):\n",
    "        columns = tf.string_split([line], ' ')\n",
    "        labels = tf.string_to_number(columns.values[0], out_type=tf.float32)\n",
    "        splits = tf.string_split(columns.values[1:], ':')\n",
    "        id_vals = tf.reshape(splits.values,splits.dense_shape)\n",
    "        feat_ids, feat_vals = tf.split(id_vals,num_or_size_splits=2,axis=1)\n",
    "        feat_ids = tf.string_to_number(feat_ids, out_type=tf.int32)\n",
    "        feat_vals = tf.string_to_number(feat_vals, out_type=tf.float32)\n",
    "        return feat_ids, feat_vals, labels\n",
    "\n",
    "    # Extract lines from input files using the Dataset API, can pass one filename or filename list\n",
    "    dataset = tf.data.TextLineDataset(filenames).map(decode_libsvm, num_parallel_calls=10).prefetch(1000)\n",
    "\n",
    "    # Randomizes input using a window of 256 elements (read into memory)\n",
    "    if perform_shuffle:\n",
    "        dataset = dataset.shuffle(buffer_size=256)\n",
    "\n",
    "    # epochs from blending together.\n",
    "    dataset = dataset.repeat(num_epochs)\n",
    "    dataset = dataset.batch(batch_size) # Batch size to use\n",
    "\n",
    "    iterator = dataset.make_one_shot_iterator()\n",
    "    batch_feat_ids, batch_feat_vals,batch_labels = iterator.get_next()\n",
    "    return batch_feat_ids, batch_feat_vals,batch_labels"
   ]
  },
  {
   "cell_type": "code",
   "execution_count": 51,
   "metadata": {},
   "outputs": [],
   "source": [
    "filenames = './tr.mini.libsvm'"
   ]
  },
  {
   "cell_type": "code",
   "execution_count": 67,
   "metadata": {},
   "outputs": [
    {
     "name": "stdout",
     "output_type": "stream",
     "text": [
      "Parsing ./tr.mini.libsvm\n"
     ]
    }
   ],
   "source": [
    " , batch_feat_vals,batch_labels = input_fn(filenames)"
   ]
  },
  {
   "cell_type": "code",
   "execution_count": 70,
   "metadata": {},
   "outputs": [
    {
     "data": {
      "text/plain": [
       "array([ 2, 39,  1], dtype=int32)"
      ]
     },
     "execution_count": 70,
     "metadata": {},
     "output_type": "execute_result"
    }
   ],
   "source": [
    "sess = tf.Session()\n",
    "sess.run(tf.shape(batch_feat_ids))"
   ]
  },
  {
   "cell_type": "code",
   "execution_count": 71,
   "metadata": {},
   "outputs": [
    {
     "data": {
      "text/plain": [
       "array([ 2, 39,  1], dtype=int32)"
      ]
     },
     "execution_count": 71,
     "metadata": {},
     "output_type": "execute_result"
    }
   ],
   "source": [
    "sess.run(tf.shape(batch_feat_vals))"
   ]
  },
  {
   "cell_type": "code",
   "execution_count": 72,
   "metadata": {},
   "outputs": [
    {
     "data": {
      "text/plain": [
       "array([2], dtype=int32)"
      ]
     },
     "execution_count": 72,
     "metadata": {},
     "output_type": "execute_result"
    }
   ],
   "source": [
    "sess.run(tf.shape(batch_labels))"
   ]
  },
  {
   "cell_type": "code",
   "execution_count": 47,
   "metadata": {},
   "outputs": [
    {
     "name": "stdout",
     "output_type": "stream",
     "text": [
      "feat_ids:[[[0]\n",
      "  [2]]\n",
      "\n",
      " [[1]\n",
      "  [3]]]\n",
      "feat_ids:[[0 2]\n",
      " [1 3]]\n",
      "embeddings: [[[ 1.  2.  3.]\n",
      "  [ 7.  8.  9.]]\n",
      "\n",
      " [[ 4.  5.  6.]\n",
      "  [10. 11. 12.]]]\n",
      "feat_vals: [[[0.1]\n",
      "  [0.2]]\n",
      "\n",
      " [[0.5]\n",
      "  [0.6]]]\n",
      "xx:[[[0.1       0.2       0.3      ]\n",
      "  [1.4       1.6       1.8000001]]\n",
      "\n",
      " [[2.        2.5       3.       ]\n",
      "  [6.        6.6000004 7.2000003]]]\n"
     ]
    }
   ],
   "source": [
    "with tf.Session() as sess:\n",
    "    Feat_Emb = tf.constant([[1.0,2.0,3.0],[4.0,5.0,6.0],[7.0,8.0,9.0],[10.0,11.0,12.0]])\n",
    "    feat_ids = tf.constant([[[0],[2]],[[1],[3]]])\n",
    "    print('feat_ids:'+ str(sess.run(feat_ids)))\n",
    "    feat_ids = tf.reshape(feat_ids,shape=[-1,2])\n",
    "    print('feat_ids:'+str(sess.run(feat_ids)))\n",
    "    embeddings = tf.nn.embedding_lookup(Feat_Emb, feat_ids)\n",
    "    print('embeddings: '+str(sess.run(embeddings)))\n",
    "    feat_vals = tf.constant([[[0.1],[0.2]],[[0.5],[0.6]]])\n",
    "    print('feat_vals: ' + str(sess.run(feat_vals)))\n",
    "    feat_vals = tf.reshape(feat_vals,shape=[-1,2,1])\n",
    "    xx = tf.multiply(embeddings,feat_vals)\n",
    "    print('xx:' + str(sess.run(xx)))"
   ]
  },
  {
   "cell_type": "code",
   "execution_count": null,
   "metadata": {},
   "outputs": [],
   "source": []
  }
 ],
 "metadata": {
  "kernelspec": {
   "display_name": "Python 3",
   "language": "python",
   "name": "python3"
  },
  "language_info": {
   "codemirror_mode": {
    "name": "ipython",
    "version": 3
   },
   "file_extension": ".py",
   "mimetype": "text/x-python",
   "name": "python",
   "nbconvert_exporter": "python",
   "pygments_lexer": "ipython3",
   "version": "3.6.7"
  }
 },
 "nbformat": 4,
 "nbformat_minor": 2
}

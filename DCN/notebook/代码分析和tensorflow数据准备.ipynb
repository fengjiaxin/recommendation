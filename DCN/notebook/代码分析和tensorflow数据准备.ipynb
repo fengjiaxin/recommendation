{
 "cells": [
  {
   "cell_type": "code",
   "execution_count": 2,
   "metadata": {},
   "outputs": [],
   "source": [
    "import tensorflow as tf\n",
    "import pandas as pd"
   ]
  },
  {
   "cell_type": "markdown",
   "metadata": {},
   "source": [
    "##### libsvm数据介绍：\n",
    "&emsp;&emsp;**Label feat_id1:value1 feat_id2:value2 ..**\n",
    "\n",
    "&emsp;&emsp;label 是类别的标识，feat_id1是第一个类别的编号，value1是第一个类别的值。\n",
    "\n",
    "&emsp;&emsp;lib_svm的数据将特征值为0的数据进行省略，只保留特征值不为0的特征，在训练中，类别特征经过one-hot后，是一个稀疏矩阵，存储非常占内存，通过libsvm存储后可以降低存储空间。feat_id是从1开始的序列值。\n",
    "\n",
    "#### 举例说明\n",
    "&emsp;&emsp;假设数据列是sex,status,age三列，其中sex,status是类别列，age是连续数字，其中sex类别为(man,woman,other),stage类别为(married,single,other)。"
   ]
  },
  {
   "cell_type": "code",
   "execution_count": 3,
   "metadata": {},
   "outputs": [],
   "source": [
    "df = pd.DataFrame([['man','married',33],['man','single',23],['man','other',43],\n",
    "                  ['woman','married',28],['other','married',65]],columns=['sex','status','age'])"
   ]
  },
  {
   "cell_type": "code",
   "execution_count": 6,
   "metadata": {},
   "outputs": [
    {
     "data": {
      "text/html": [
       "<div>\n",
       "<style scoped>\n",
       "    .dataframe tbody tr th:only-of-type {\n",
       "        vertical-align: middle;\n",
       "    }\n",
       "\n",
       "    .dataframe tbody tr th {\n",
       "        vertical-align: top;\n",
       "    }\n",
       "\n",
       "    .dataframe thead th {\n",
       "        text-align: right;\n",
       "    }\n",
       "</style>\n",
       "<table border=\"1\" class=\"dataframe\">\n",
       "  <thead>\n",
       "    <tr style=\"text-align: right;\">\n",
       "      <th></th>\n",
       "      <th>sex</th>\n",
       "      <th>status</th>\n",
       "      <th>age</th>\n",
       "    </tr>\n",
       "  </thead>\n",
       "  <tbody>\n",
       "    <tr>\n",
       "      <th>0</th>\n",
       "      <td>man</td>\n",
       "      <td>married</td>\n",
       "      <td>33</td>\n",
       "    </tr>\n",
       "    <tr>\n",
       "      <th>1</th>\n",
       "      <td>man</td>\n",
       "      <td>single</td>\n",
       "      <td>23</td>\n",
       "    </tr>\n",
       "    <tr>\n",
       "      <th>2</th>\n",
       "      <td>man</td>\n",
       "      <td>other</td>\n",
       "      <td>43</td>\n",
       "    </tr>\n",
       "    <tr>\n",
       "      <th>3</th>\n",
       "      <td>woman</td>\n",
       "      <td>married</td>\n",
       "      <td>28</td>\n",
       "    </tr>\n",
       "    <tr>\n",
       "      <th>4</th>\n",
       "      <td>other</td>\n",
       "      <td>married</td>\n",
       "      <td>65</td>\n",
       "    </tr>\n",
       "  </tbody>\n",
       "</table>\n",
       "</div>"
      ],
      "text/plain": [
       "     sex   status  age\n",
       "0    man  married   33\n",
       "1    man   single   23\n",
       "2    man    other   43\n",
       "3  woman  married   28\n",
       "4  other  married   65"
      ]
     },
     "execution_count": 6,
     "metadata": {},
     "output_type": "execute_result"
    }
   ],
   "source": [
    "df"
   ]
  },
  {
   "cell_type": "code",
   "execution_count": 5,
   "metadata": {},
   "outputs": [],
   "source": [
    "one_hot_df = pd.get_dummies(df)"
   ]
  },
  {
   "cell_type": "code",
   "execution_count": 7,
   "metadata": {},
   "outputs": [
    {
     "data": {
      "text/html": [
       "<div>\n",
       "<style scoped>\n",
       "    .dataframe tbody tr th:only-of-type {\n",
       "        vertical-align: middle;\n",
       "    }\n",
       "\n",
       "    .dataframe tbody tr th {\n",
       "        vertical-align: top;\n",
       "    }\n",
       "\n",
       "    .dataframe thead th {\n",
       "        text-align: right;\n",
       "    }\n",
       "</style>\n",
       "<table border=\"1\" class=\"dataframe\">\n",
       "  <thead>\n",
       "    <tr style=\"text-align: right;\">\n",
       "      <th></th>\n",
       "      <th>age</th>\n",
       "      <th>sex_man</th>\n",
       "      <th>sex_other</th>\n",
       "      <th>sex_woman</th>\n",
       "      <th>status_married</th>\n",
       "      <th>status_other</th>\n",
       "      <th>status_single</th>\n",
       "    </tr>\n",
       "  </thead>\n",
       "  <tbody>\n",
       "    <tr>\n",
       "      <th>0</th>\n",
       "      <td>33</td>\n",
       "      <td>1</td>\n",
       "      <td>0</td>\n",
       "      <td>0</td>\n",
       "      <td>1</td>\n",
       "      <td>0</td>\n",
       "      <td>0</td>\n",
       "    </tr>\n",
       "    <tr>\n",
       "      <th>1</th>\n",
       "      <td>23</td>\n",
       "      <td>1</td>\n",
       "      <td>0</td>\n",
       "      <td>0</td>\n",
       "      <td>0</td>\n",
       "      <td>0</td>\n",
       "      <td>1</td>\n",
       "    </tr>\n",
       "    <tr>\n",
       "      <th>2</th>\n",
       "      <td>43</td>\n",
       "      <td>1</td>\n",
       "      <td>0</td>\n",
       "      <td>0</td>\n",
       "      <td>0</td>\n",
       "      <td>1</td>\n",
       "      <td>0</td>\n",
       "    </tr>\n",
       "    <tr>\n",
       "      <th>3</th>\n",
       "      <td>28</td>\n",
       "      <td>0</td>\n",
       "      <td>0</td>\n",
       "      <td>1</td>\n",
       "      <td>1</td>\n",
       "      <td>0</td>\n",
       "      <td>0</td>\n",
       "    </tr>\n",
       "    <tr>\n",
       "      <th>4</th>\n",
       "      <td>65</td>\n",
       "      <td>0</td>\n",
       "      <td>1</td>\n",
       "      <td>0</td>\n",
       "      <td>1</td>\n",
       "      <td>0</td>\n",
       "      <td>0</td>\n",
       "    </tr>\n",
       "  </tbody>\n",
       "</table>\n",
       "</div>"
      ],
      "text/plain": [
       "   age  sex_man  sex_other  sex_woman  status_married  status_other  \\\n",
       "0   33        1          0          0               1             0   \n",
       "1   23        1          0          0               0             0   \n",
       "2   43        1          0          0               0             1   \n",
       "3   28        0          0          1               1             0   \n",
       "4   65        0          1          0               1             0   \n",
       "\n",
       "   status_single  \n",
       "0              0  \n",
       "1              1  \n",
       "2              0  \n",
       "3              0  \n",
       "4              0  "
      ]
     },
     "execution_count": 7,
     "metadata": {},
     "output_type": "execute_result"
    }
   ],
   "source": [
    "one_hot_df"
   ]
  },
  {
   "cell_type": "code",
   "execution_count": 9,
   "metadata": {},
   "outputs": [
    {
     "data": {
      "text/html": [
       "<div>\n",
       "<style scoped>\n",
       "    .dataframe tbody tr th:only-of-type {\n",
       "        vertical-align: middle;\n",
       "    }\n",
       "\n",
       "    .dataframe tbody tr th {\n",
       "        vertical-align: top;\n",
       "    }\n",
       "\n",
       "    .dataframe thead th {\n",
       "        text-align: right;\n",
       "    }\n",
       "</style>\n",
       "<table border=\"1\" class=\"dataframe\">\n",
       "  <thead>\n",
       "    <tr style=\"text-align: right;\">\n",
       "      <th></th>\n",
       "      <th>age</th>\n",
       "      <th>sex_man</th>\n",
       "      <th>sex_other</th>\n",
       "      <th>sex_woman</th>\n",
       "      <th>status_married</th>\n",
       "      <th>status_other</th>\n",
       "      <th>status_single</th>\n",
       "      <th>label</th>\n",
       "    </tr>\n",
       "  </thead>\n",
       "  <tbody>\n",
       "    <tr>\n",
       "      <th>0</th>\n",
       "      <td>33</td>\n",
       "      <td>1</td>\n",
       "      <td>0</td>\n",
       "      <td>0</td>\n",
       "      <td>1</td>\n",
       "      <td>0</td>\n",
       "      <td>0</td>\n",
       "      <td>1</td>\n",
       "    </tr>\n",
       "    <tr>\n",
       "      <th>1</th>\n",
       "      <td>23</td>\n",
       "      <td>1</td>\n",
       "      <td>0</td>\n",
       "      <td>0</td>\n",
       "      <td>0</td>\n",
       "      <td>0</td>\n",
       "      <td>1</td>\n",
       "      <td>1</td>\n",
       "    </tr>\n",
       "    <tr>\n",
       "      <th>2</th>\n",
       "      <td>43</td>\n",
       "      <td>1</td>\n",
       "      <td>0</td>\n",
       "      <td>0</td>\n",
       "      <td>0</td>\n",
       "      <td>1</td>\n",
       "      <td>0</td>\n",
       "      <td>1</td>\n",
       "    </tr>\n",
       "    <tr>\n",
       "      <th>3</th>\n",
       "      <td>28</td>\n",
       "      <td>0</td>\n",
       "      <td>0</td>\n",
       "      <td>1</td>\n",
       "      <td>1</td>\n",
       "      <td>0</td>\n",
       "      <td>0</td>\n",
       "      <td>1</td>\n",
       "    </tr>\n",
       "    <tr>\n",
       "      <th>4</th>\n",
       "      <td>65</td>\n",
       "      <td>0</td>\n",
       "      <td>1</td>\n",
       "      <td>0</td>\n",
       "      <td>1</td>\n",
       "      <td>0</td>\n",
       "      <td>0</td>\n",
       "      <td>1</td>\n",
       "    </tr>\n",
       "  </tbody>\n",
       "</table>\n",
       "</div>"
      ],
      "text/plain": [
       "   age  sex_man  sex_other  sex_woman  status_married  status_other  \\\n",
       "0   33        1          0          0               1             0   \n",
       "1   23        1          0          0               0             0   \n",
       "2   43        1          0          0               0             1   \n",
       "3   28        0          0          1               1             0   \n",
       "4   65        0          1          0               1             0   \n",
       "\n",
       "   status_single  label  \n",
       "0              0      1  \n",
       "1              1      1  \n",
       "2              0      1  \n",
       "3              0      1  \n",
       "4              0      1  "
      ]
     },
     "execution_count": 9,
     "metadata": {},
     "output_type": "execute_result"
    }
   ],
   "source": [
    "# 给one-hot df添加一列label,假设都是1\n",
    "one_hot_df['label'] = 1\n",
    "one_hot_df"
   ]
  },
  {
   "cell_type": "markdown",
   "metadata": {},
   "source": [
    "&emsp;&emsp;从上面的例子中可以看出，经过one-hot之后数据很稀疏，但是只有三列有值，将columns进行index赋值，即age:1,sex_man:2,sex_other:3,sex_woman:4,status_married:5,status_other:6,status_single:7。\n",
    "\n",
    "转换后的数据应该如下："
   ]
  },
  {
   "cell_type": "code",
   "execution_count": 11,
   "metadata": {},
   "outputs": [],
   "source": [
    "# 测试libsvm数据\n",
    "line1 = '1 1:33 2:1 5:1'\n",
    "line2 = '1 1:23 2:1 7:1'"
   ]
  },
  {
   "cell_type": "code",
   "execution_count": 13,
   "metadata": {},
   "outputs": [
    {
     "data": {
      "text/plain": [
       "SparseTensorValue(indices=array([[0, 0],\n",
       "       [0, 1],\n",
       "       [0, 2],\n",
       "       [0, 3]]), values=array([b'1', b'1:33', b'2:1', b'5:1'], dtype=object), dense_shape=array([1, 4]))"
      ]
     },
     "execution_count": 13,
     "metadata": {},
     "output_type": "execute_result"
    }
   ],
   "source": [
    "# 接下来了解怎么切分数据\n",
    "sess = tf.Session()\n",
    "columns = tf.string_split([line1],' ')\n",
    "sess.run(columns)"
   ]
  },
  {
   "cell_type": "code",
   "execution_count": 14,
   "metadata": {},
   "outputs": [
    {
     "data": {
      "text/plain": [
       "b'1'"
      ]
     },
     "execution_count": 14,
     "metadata": {},
     "output_type": "execute_result"
    }
   ],
   "source": [
    "# tf.string_split返回的数据是sparseTensorValue类型\n",
    "sess.run(columns.values[0])"
   ]
  },
  {
   "cell_type": "code",
   "execution_count": 15,
   "metadata": {},
   "outputs": [
    {
     "data": {
      "text/plain": [
       "1.0"
      ]
     },
     "execution_count": 15,
     "metadata": {},
     "output_type": "execute_result"
    }
   ],
   "source": [
    "# 获取label,将格式转换为float32\n",
    "labels = tf.string_to_number(columns.values[0],out_type=tf.float32)\n",
    "sess.run(labels)"
   ]
  },
  {
   "cell_type": "code",
   "execution_count": 16,
   "metadata": {},
   "outputs": [
    {
     "data": {
      "text/plain": [
       "SparseTensorValue(indices=array([[0, 0],\n",
       "       [0, 1],\n",
       "       [1, 0],\n",
       "       [1, 1],\n",
       "       [2, 0],\n",
       "       [2, 1]]), values=array([b'1', b'33', b'2', b'1', b'5', b'1'], dtype=object), dense_shape=array([3, 2]))"
      ]
     },
     "execution_count": 16,
     "metadata": {},
     "output_type": "execute_result"
    }
   ],
   "source": [
    "# 获取index:value数据\n",
    "splits = tf.string_split(columns.values[1:],':')\n",
    "sess.run(splits)"
   ]
  },
  {
   "cell_type": "code",
   "execution_count": 17,
   "metadata": {},
   "outputs": [
    {
     "data": {
      "text/plain": [
       "array([[b'1', b'33'],\n",
       "       [b'2', b'1'],\n",
       "       [b'5', b'1']], dtype=object)"
      ]
     },
     "execution_count": 17,
     "metadata": {},
     "output_type": "execute_result"
    }
   ],
   "source": [
    "id_vals = tf.reshape(splits.values,splits.dense_shape)\n",
    "sess.run(id_vals)"
   ]
  },
  {
   "cell_type": "code",
   "execution_count": 22,
   "metadata": {},
   "outputs": [
    {
     "name": "stdout",
     "output_type": "stream",
     "text": [
      "[[b'1']\n",
      " [b'2']\n",
      " [b'5']]\n",
      "###\n",
      "[[b'33']\n",
      " [b'1']\n",
      " [b'1']]\n"
     ]
    }
   ],
   "source": [
    "# 此时id_vals，第一列是id,第二列是value\n",
    "# 需要进行切分，沿着行的方向，axis = 1\n",
    "feat_ids,feat_vals = tf.split(id_vals,num_or_size_splits=2,axis=1)\n",
    "print(sess.run(feat_ids))\n",
    "print('###')\n",
    "print(sess.run(feat_vals))"
   ]
  },
  {
   "cell_type": "code",
   "execution_count": 23,
   "metadata": {},
   "outputs": [
    {
     "name": "stdout",
     "output_type": "stream",
     "text": [
      "[[1]\n",
      " [2]\n",
      " [5]]\n",
      "##################\n",
      "[[33.]\n",
      " [ 1.]\n",
      " [ 1.]]\n"
     ]
    }
   ],
   "source": [
    "# 下一步将feat_ids转换成int32,feat_vals转换成float32\n",
    "feat_ids = tf.string_to_number(feat_ids,out_type=tf.int32)\n",
    "feat_vals = tf.string_to_number(feat_vals,out_type=tf.float32)\n",
    "print(sess.run(feat_ids))\n",
    "print('##################')\n",
    "print(sess.run(feat_vals))"
   ]
  },
  {
   "cell_type": "code",
   "execution_count": 26,
   "metadata": {},
   "outputs": [
    {
     "name": "stdout",
     "output_type": "stream",
     "text": [
      "feat_ids:[[[0]\n",
      "  [2]]\n",
      "\n",
      " [[1]\n",
      "  [3]]]\n",
      "feat_ids:[[0 2]\n",
      " [1 3]]\n",
      "embeddings: [[[ 1.  2.  3.]\n",
      "  [ 7.  8.  9.]]\n",
      "\n",
      " [[ 4.  5.  6.]\n",
      "  [10. 11. 12.]]]\n",
      "feat_vals: [[[0.1]\n",
      "  [0.2]]\n",
      "\n",
      " [[0.5]\n",
      "  [0.6]]]\n",
      "xx:[[[0.1       0.2       0.3      ]\n",
      "  [1.4       1.6       1.8000001]]\n",
      "\n",
      " [[2.        2.5       3.       ]\n",
      "  [6.        6.6000004 7.2000003]]]\n"
     ]
    }
   ],
   "source": [
    "with tf.Session() as sess:\n",
    "    Feat_Emb = tf.constant([[1.0,2.0,3.0],[4.0,5.0,6.0],[7.0,8.0,9.0],[10.0,11.0,12.0]])\n",
    "    feat_ids = tf.constant([[[0],[2]],[[1],[3]]])\n",
    "    print('feat_ids:'+ str(sess.run(feat_ids)))\n",
    "    feat_ids = tf.reshape(feat_ids,shape=[-1,2])\n",
    "    print('feat_ids:'+str(sess.run(feat_ids)))\n",
    "    embeddings = tf.nn.embedding_lookup(Feat_Emb, feat_ids)\n",
    "    print('embeddings: '+str(sess.run(embeddings)))\n",
    "    feat_vals = tf.constant([[[0.1],[0.2]],[[0.5],[0.6]]])\n",
    "    print('feat_vals: ' + str(sess.run(feat_vals)))\n",
    "    feat_vals = tf.reshape(feat_vals,shape=[-1,2,1])\n",
    "    xx = tf.multiply(embeddings,feat_vals)\n",
    "    print('xx:' + str(sess.run(xx)))"
   ]
  }
 ],
 "metadata": {
  "kernelspec": {
   "display_name": "Python 3",
   "language": "python",
   "name": "python3"
  },
  "language_info": {
   "codemirror_mode": {
    "name": "ipython",
    "version": 3
   },
   "file_extension": ".py",
   "mimetype": "text/x-python",
   "name": "python",
   "nbconvert_exporter": "python",
   "pygments_lexer": "ipython3",
   "version": "3.6.7"
  }
 },
 "nbformat": 4,
 "nbformat_minor": 2
}
